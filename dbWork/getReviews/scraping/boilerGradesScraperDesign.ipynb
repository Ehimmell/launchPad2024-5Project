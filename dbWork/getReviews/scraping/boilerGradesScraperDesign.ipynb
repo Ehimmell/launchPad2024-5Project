{
 "cells": [
  {
   "cell_type": "code",
   "id": "initial_id",
   "metadata": {
    "collapsed": true,
    "ExecuteTime": {
     "end_time": "2024-09-04T04:37:05.009540Z",
     "start_time": "2024-09-04T04:37:05.006623Z"
    }
   },
   "source": [
    "import selenium as se\n",
    "from selenium.webdriver.common.keys import Keys\n",
    "from selenium.webdriver.common.by import By\n",
    "from time import sleep\n",
    "import pandas as pd"
   ],
   "execution_count": 93,
   "outputs": []
  },
  {
   "metadata": {
    "ExecuteTime": {
     "end_time": "2024-09-04T04:37:05.589164Z",
     "start_time": "2024-09-04T04:37:05.015567Z"
    }
   },
   "cell_type": "code",
   "source": "driver = se.webdriver.Chrome()",
   "id": "9f151af58a1cd8b0",
   "execution_count": 94,
   "outputs": []
  },
  {
   "metadata": {
    "ExecuteTime": {
     "end_time": "2024-09-04T04:37:06.178126Z",
     "start_time": "2024-09-04T04:37:05.590743Z"
    }
   },
   "cell_type": "code",
   "source": "driver.get('https://www.boilergrades.com')",
   "id": "24b0c93ab8f8208b",
   "execution_count": 95,
   "outputs": []
  },
  {
   "metadata": {
    "ExecuteTime": {
     "end_time": "2024-09-04T04:37:06.186611Z",
     "start_time": "2024-09-04T04:37:06.178880Z"
    }
   },
   "cell_type": "code",
   "source": "profSearch = driver.find_element(By.XPATH, '//input[@id=\"input-7\"]')",
   "id": "8bb15c5617a321c9",
   "execution_count": 96,
   "outputs": []
  },
  {
   "metadata": {
    "ExecuteTime": {
     "end_time": "2024-09-04T04:37:07.356099Z",
     "start_time": "2024-09-04T04:37:06.188265Z"
    }
   },
   "cell_type": "code",
   "source": [
    "profSearch.send_keys('Matsuki, Kenji')\n",
    "\n",
    "profSearch.send_keys(Keys.RETURN)\n",
    "\n",
    "sleep(1)"
   ],
   "id": "54b734866e544c4c",
   "execution_count": 97,
   "outputs": []
  },
  {
   "metadata": {
    "ExecuteTime": {
     "end_time": "2024-09-04T04:37:07.369871Z",
     "start_time": "2024-09-04T04:37:07.356939Z"
    }
   },
   "cell_type": "code",
   "source": [
    "\n",
    "numbersSearch = driver.find_elements(By.XPATH, '//div[\"@class=col-sm-3 col-md-2 col-4\"]')"
   ],
   "id": "b1cb9311a9463d39",
   "execution_count": 98,
   "outputs": []
  },
  {
   "metadata": {
    "ExecuteTime": {
     "end_time": "2024-09-04T04:37:09.629457Z",
     "start_time": "2024-09-04T04:37:07.370498Z"
    }
   },
   "cell_type": "code",
   "source": [
    "classes = []\n",
    "\n",
    "grades = []\n",
    "\n",
    "for number in numbersSearch:\n",
    "    if len(number.text) < 15 and '.' not in number.text and '0' in number.text:\n",
    "        classes.append(number.text)\n",
    "    elif len(number.text) < 6 and '.' in number.text and ('4' in number.text or '3' in number.text or '2' in number.text or '1' in number.text or '0' in number.text):\n",
    "        grades.append(number.text)"
   ],
   "id": "bc438d7abb624020",
   "execution_count": 99,
   "outputs": []
  },
  {
   "metadata": {
    "ExecuteTime": {
     "end_time": "2024-09-04T04:37:09.631953Z",
     "start_time": "2024-09-04T04:37:09.630002Z"
    }
   },
   "cell_type": "code",
   "source": "classes, grades",
   "id": "5082147abc194bf7",
   "execution_count": 100,
   "outputs": []
  },
  {
   "metadata": {
    "ExecuteTime": {
     "end_time": "2024-09-04T04:37:09.634841Z",
     "start_time": "2024-09-04T04:37:09.632623Z"
    }
   },
   "cell_type": "code",
   "source": [
    "grades = [grades[i] for i in range(len(grades)) if i % 2 == 1]\n",
    "\n",
    "correctedClasses = []\n",
    "correctedGrades = []\n",
    "\n",
    "classesSeen = set()\n",
    "\n",
    "for i in range(len(classes)):\n",
    "    if classes[i] not in classesSeen:\n",
    "        correctedClasses.append(classes[i])\n",
    "        classesSeen.add(classes[i])\n",
    "        correctedGrades.append(grades[i + 1])\n",
    "        \n",
    "correctedClasses, correctedGrades\n",
    "        "
   ],
   "id": "a19315ef7f41de1b",
   "execution_count": 101,
   "outputs": []
  },
  {
   "metadata": {
    "ExecuteTime": {
     "end_time": "2024-09-04T04:37:09.636762Z",
     "start_time": "2024-09-04T04:37:09.635489Z"
    }
   },
   "cell_type": "code",
   "source": "c2g = dict(zip(correctedClasses, correctedGrades))",
   "id": "638ec8ae215a296",
   "execution_count": 102,
   "outputs": []
  },
  {
   "metadata": {
    "ExecuteTime": {
     "end_time": "2024-09-04T04:37:09.639964Z",
     "start_time": "2024-09-04T04:37:09.638214Z"
    }
   },
   "cell_type": "code",
   "source": "c2g",
   "id": "9b398ed53aa053f6",
   "execution_count": 103,
   "outputs": []
  },
  {
   "metadata": {
    "ExecuteTime": {
     "end_time": "2024-09-04T04:37:09.644062Z",
     "start_time": "2024-09-04T04:37:09.642312Z"
    }
   },
   "cell_type": "code",
   "source": "df = pd.DataFrame(c2g.items(), columns=['Class', 'Grade'])",
   "id": "4f9316c92da23e28",
   "execution_count": 105,
   "outputs": []
  },
  {
   "metadata": {
    "ExecuteTime": {
     "end_time": "2024-09-04T04:37:09.647588Z",
     "start_time": "2024-09-04T04:37:09.644552Z"
    }
   },
   "cell_type": "code",
   "source": "df",
   "id": "92f8ca96b0bd5ade",
   "execution_count": 106,
   "outputs": []
  }
 ],
 "metadata": {
  "kernelspec": {
   "display_name": "Python 3",
   "language": "python",
   "name": "python3"
  },
  "language_info": {
   "codemirror_mode": {
    "name": "ipython",
    "version": 2
   },
   "file_extension": ".py",
   "mimetype": "text/x-python",
   "name": "python",
   "nbconvert_exporter": "python",
   "pygments_lexer": "ipython2",
   "version": "2.7.6"
  }
 },
 "nbformat": 4,
 "nbformat_minor": 5
}
