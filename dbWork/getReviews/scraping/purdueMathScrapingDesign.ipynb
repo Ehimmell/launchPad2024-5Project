{
 "cells": [
  {
   "cell_type": "code",
   "id": "initial_id",
   "metadata": {
    "collapsed": true,
    "ExecuteTime": {
     "end_time": "2024-10-20T00:32:09.538124Z",
     "start_time": "2024-10-20T00:32:08.258381Z"
    }
   },
   "source": [
    "import selenium as se\n",
    "from selenium.webdriver.common.keys import Keys\n",
    "from selenium.webdriver.common.by import By\n",
    "from time import sleep\n",
    "import pandas as pd"
   ],
   "outputs": [],
   "execution_count": 1
  },
  {
   "metadata": {
    "ExecuteTime": {
     "end_time": "2024-10-20T00:40:55.061607Z",
     "start_time": "2024-10-20T00:40:52.848323Z"
    }
   },
   "cell_type": "code",
   "source": [
    "chrome = se.webdriver.Chrome()\n",
    "\n",
    "chrome.get('https://www.cs.purdue.edu/people/faculty/index.html')\n",
    "\n",
    "trs = chrome.find_elements(By.XPATH, '//tr//td')"
   ],
   "id": "705c7f97eb6114b5",
   "outputs": [
    {
     "ename": "IndexError",
     "evalue": "string index out of range",
     "output_type": "error",
     "traceback": [
      "\u001B[0;31m---------------------------------------------------------------------------\u001B[0m",
      "\u001B[0;31mIndexError\u001B[0m                                Traceback (most recent call last)",
      "Cell \u001B[0;32mIn[21], line 6\u001B[0m\n\u001B[1;32m      3\u001B[0m chrome\u001B[38;5;241m.\u001B[39mget(\u001B[38;5;124m'\u001B[39m\u001B[38;5;124mhttps://www.cs.purdue.edu/people/faculty/index.html\u001B[39m\u001B[38;5;124m'\u001B[39m)\n\u001B[1;32m      5\u001B[0m trs \u001B[38;5;241m=\u001B[39m chrome\u001B[38;5;241m.\u001B[39mfind_elements(By\u001B[38;5;241m.\u001B[39mXPATH, \u001B[38;5;124m'\u001B[39m\u001B[38;5;124m//tr//td\u001B[39m\u001B[38;5;124m'\u001B[39m)\n\u001B[0;32m----> 6\u001B[0m \u001B[43mtrs\u001B[49m\u001B[43m[\u001B[49m\u001B[38;5;241;43m0\u001B[39;49m\u001B[43m]\u001B[49m\u001B[38;5;241;43m.\u001B[39;49m\u001B[43mtext\u001B[49m\u001B[43m[\u001B[49m\u001B[38;5;241;43m0\u001B[39;49m\u001B[43m]\u001B[49m\n",
      "\u001B[0;31mIndexError\u001B[0m: string index out of range"
     ]
    }
   ],
   "execution_count": 21
  },
  {
   "metadata": {
    "ExecuteTime": {
     "end_time": "2024-10-20T00:43:25.643571Z",
     "start_time": "2024-10-20T00:43:25.276837Z"
    }
   },
   "cell_type": "code",
   "source": [
    "professors = []\n",
    "\n",
    "for i in range(5, len(trs), 6):\n",
    "    professors.append(trs[i].text)"
   ],
   "id": "6f26b87c3ab46213",
   "outputs": [],
   "execution_count": 35
  },
  {
   "metadata": {
    "ExecuteTime": {
     "end_time": "2024-10-20T00:43:30.259234Z",
     "start_time": "2024-10-20T00:43:30.255151Z"
    }
   },
   "cell_type": "code",
   "source": "professors",
   "id": "cf8f0e48b37842e5",
   "outputs": [
    {
     "data": {
      "text/plain": [
       "['George Adams',\n",
       " 'Daniel Aliaga',\n",
       " 'Walid Aref',\n",
       " 'Mikhail Atallah',\n",
       " 'Saugata Basu',\n",
       " 'Andres Bejarano Posada',\n",
       " 'Bedrich Benes',\n",
       " 'Hisham Benotman',\n",
       " 'Aniket Bera',\n",
       " 'Tony Bergstrom',\n",
       " 'Elisa Bertino',\n",
       " 'Bharat Bhargava',\n",
       " 'Antonio Bianchi',\n",
       " 'Jeremiah Blocki',\n",
       " 'Michael Borkowski',\n",
       " 'Simina Branzei',\n",
       " 'Brian Bullins',\n",
       " 'Joseph Campbell',\n",
       " 'Berkay Celik',\n",
       " 'Chris Clifton',\n",
       " 'Douglas Comer',\n",
       " 'Benjamin Delaware',\n",
       " 'Tamal Dey',\n",
       " 'Petros Drineas',\n",
       " 'H. E. Dunsmore',\n",
       " 'Sonia Fahmy',\n",
       " 'Pedro Fonseca',\n",
       " 'Christina Garman',\n",
       " 'David Gleich',\n",
       " 'Aarushi Goel',\n",
       " 'Dan Goldwasser',\n",
       " 'Ananth Grama',\n",
       " 'Elena Grigorescu',\n",
       " 'Susanne Hambrusch',\n",
       " 'Steve Hanneke',\n",
       " 'Suresh Jagannathan',\n",
       " 'Sooyeon Jeong',\n",
       " 'Changhee Jung',\n",
       " 'Aniket Kate',\n",
       " 'Majid Kazemian',\n",
       " 'Rajiv Khanna',\n",
       " 'Daisuke Kihara',\n",
       " 'Zachary Kingston',\n",
       " 'Ninghui Li',\n",
       " 'Zhiyuan Li',\n",
       " 'Hemanta Maji',\n",
       " 'Anuran Makur',\n",
       " 'Christopher May',\n",
       " 'Xupeng Miao',\n",
       " 'Snehasis Mukhopadhyay',\n",
       " 'Jennifer Neville',\n",
       " 'Ryan Newton',\n",
       " 'Kihong Park',\n",
       " 'Chunyi Peng',\n",
       " 'Voicu Popescu',\n",
       " 'Alex Pothen',\n",
       " 'Sunil Prabhakar',\n",
       " 'Alex Psomas',\n",
       " 'Kent Quanrud',\n",
       " 'Ahmed Qureshi',\n",
       " 'Vernon Rego',\n",
       " 'Bruno Ribeiro',\n",
       " 'Gustavo Rodriguez-Rivera',\n",
       " 'Tiark Rompf',\n",
       " 'Elisha Sacks',\n",
       " 'Eric Samperton',\n",
       " 'Abulhair Saparov',\n",
       " 'Sarah Sellke',\n",
       " 'Muhammad Shahbaz',\n",
       " 'Mary Anne Smart',\n",
       " 'Eugene Spafford',\n",
       " 'Wojciech Szpankowski',\n",
       " 'Lin Tan',\n",
       " 'Kazem Taram',\n",
       " 'Dave Tian',\n",
       " 'Xavier Tricoche',\n",
       " 'Gavriil Tsechpenakis',\n",
       " 'Mihran Tuceryan',\n",
       " 'Jeff Turkstra',\n",
       " 'Paul Valiant',\n",
       " 'Jianguo Wang',\n",
       " 'Patrick Wolfe',\n",
       " 'Dongyan Xu',\n",
       " 'Yexiang Xue',\n",
       " 'Raymond Yeh',\n",
       " 'Ming Yin',\n",
       " 'Ruqi Zhang',\n",
       " 'Tianyi Zhang',\n",
       " 'Xiangyu Zhang',\n",
       " 'Yongle Zhang',\n",
       " 'Jiang Zheng',\n",
       " 'Vaneet Aggarwal',\n",
       " 'Saurabh Bagchi',\n",
       " 'Elias Bareinboim',\n",
       " 'Gaurav Chopra',\n",
       " 'Edward Delp',\n",
       " 'Jean Honorio Carrillo',\n",
       " 'Y Charlie Hu',\n",
       " 'Sabre Kais',\n",
       " 'Murat Kocaoglu',\n",
       " 'Milind Kulkarni',\n",
       " 'Yung-Hsiang Lu',\n",
       " 'Sanjay Rao',\n",
       " 'Vinayak Rao',\n",
       " 'Roopsha Samanta',\n",
       " 'T.N. Vijaykumar',\n",
       " 'Mark Ward',\n",
       " 'Jianlin Xia',\n",
       " 'Vassilis Zikas',\n",
       " 'Ahmed Elmagarmid',\n",
       " 'Greg Frederickson',\n",
       " 'Walter Gautschi',\n",
       " 'Elias Houstis',\n",
       " 'Brad Lucier',\n",
       " 'Robert Lynch',\n",
       " 'Aditya Mathur',\n",
       " 'Ahmed Sameh',\n",
       " 'Samuel Wagstaff',\n",
       " 'Nagender Aneja',\n",
       " 'Manoja Rajalakshmi Aravindakshan',\n",
       " 'Dunka Dirting Bakwa',\n",
       " 'Yulia Belyakova',\n",
       " 'Chulhee Cho',\n",
       " 'SM Ferdous',\n",
       " 'Arslan Khan',\n",
       " 'Hyungsub Kim',\n",
       " 'Aayushya Nair',\n",
       " 'Tapti Palit',\n",
       " 'Itay Moshe Safran',\n",
       " 'Ioannis Tzannetos',\n",
       " 'Julio Augusto Vera Sancho',\n",
       " 'Guannan Wei',\n",
       " 'Changlong Wu',\n",
       " 'Kailin Yin',\n",
       " 'Junmin Zhu',\n",
       " 'Yu Zhu',\n",
       " 'Jessica Conner-Strunk',\n",
       " 'Marta Crowe',\n",
       " 'Bill Crum',\n",
       " 'Eman Diyab',\n",
       " 'Aaditya Kharel',\n",
       " 'Xiaojin Liu',\n",
       " 'Carrie Rector',\n",
       " 'Max Rees',\n",
       " '']"
      ]
     },
     "execution_count": 36,
     "metadata": {},
     "output_type": "execute_result"
    }
   ],
   "execution_count": 36
  },
  {
   "metadata": {
    "ExecuteTime": {
     "end_time": "2024-10-20T00:44:36.952632Z",
     "start_time": "2024-10-20T00:44:36.947512Z"
    }
   },
   "cell_type": "code",
   "source": [
    "df = pd.DataFrame(professors, columns=['Name'])\n",
    "df.to_csv('csprofessorNames.csv', index=False)"
   ],
   "id": "5f00f8af67e099f7",
   "outputs": [],
   "execution_count": 37
  },
  {
   "metadata": {},
   "cell_type": "code",
   "outputs": [],
   "execution_count": null,
   "source": "",
   "id": "931ad80c4cc617a5"
  }
 ],
 "metadata": {
  "kernelspec": {
   "display_name": "Python 3",
   "language": "python",
   "name": "python3"
  },
  "language_info": {
   "codemirror_mode": {
    "name": "ipython",
    "version": 2
   },
   "file_extension": ".py",
   "mimetype": "text/x-python",
   "name": "python",
   "nbconvert_exporter": "python",
   "pygments_lexer": "ipython2",
   "version": "2.7.6"
  }
 },
 "nbformat": 4,
 "nbformat_minor": 5
}
