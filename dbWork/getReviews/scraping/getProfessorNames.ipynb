{
 "cells": [
  {
   "cell_type": "code",
   "id": "initial_id",
   "metadata": {
    "collapsed": true,
    "ExecuteTime": {
     "end_time": "2024-10-02T00:25:19.564470Z",
     "start_time": "2024-10-02T00:25:19.561344Z"
    }
   },
   "source": [
    "import selenium as se\n",
    "from selenium.webdriver.common.keys import Keys\n",
    "from selenium.webdriver.common.by import By\n",
    "from time import sleep\n",
    "import pandas as pd"
   ],
   "outputs": [],
   "execution_count": 43
  },
  {
   "metadata": {
    "ExecuteTime": {
     "end_time": "2024-10-02T00:25:25.404665Z",
     "start_time": "2024-10-02T00:25:19.566211Z"
    }
   },
   "cell_type": "code",
   "source": [
    "chrome = se.webdriver.Chrome()\n",
    "\n",
    "chrome.get('https://www.ratemyprofessors.com')\n",
    "\n",
    "nameInput = chrome.find_element(By.XPATH, '//input[@placeholder=\"Your school\"]')\n",
    "\n",
    "nameInput.send_keys('Purdue University -- West Lafayette')\n",
    "\n",
    "nameInput.send_keys(Keys.RETURN)\n",
    "\n",
    "sleep(2)"
   ],
   "id": "c93b2aee7afd0d08",
   "outputs": [],
   "execution_count": 44
  },
  {
   "metadata": {
    "ExecuteTime": {
     "end_time": "2024-10-02T00:25:32.677987Z",
     "start_time": "2024-10-02T00:25:32.509374Z"
    }
   },
   "cell_type": "code",
   "source": [
    "purdue = chrome.find_element(By.XPATH, '//a[@class=\"SchoolCard__StyledSchoolCard-sc-130cnkk-0 bJboOI\"]')\n",
    "\n",
    "\n",
    "print(purdue.text)\n",
    "\n",
    "purdue.click()"
   ],
   "id": "11a6085911777b10",
   "outputs": [
    {
     "name": "stdout",
     "output_type": "stream",
     "text": [
      "QUALITY\n",
      "4.2\n",
      "798 ratings\n",
      "Purdue University - West Lafayette\n",
      "West Lafayette, IN\n"
     ]
    }
   ],
   "execution_count": 46
  },
  {
   "metadata": {
    "ExecuteTime": {
     "end_time": "2024-10-02T00:25:34.809383Z",
     "start_time": "2024-10-02T00:25:34.723483Z"
    }
   },
   "cell_type": "code",
   "source": [
    "viewAllProfessors = chrome.find_element(By.XPATH, '//a[@class=\"SchoolTitles__StyledProfLink-sc-3rec2n-2 kOZsZt\"]')\n",
    "\n",
    "viewAllProfessors.click()"
   ],
   "id": "19fdca5f6519a6b4",
   "outputs": [],
   "execution_count": 47
  },
  {
   "metadata": {
    "ExecuteTime": {
     "end_time": "2024-10-02T00:25:47.935250Z",
     "start_time": "2024-10-02T00:25:36.176623Z"
    }
   },
   "cell_type": "code",
   "source": [
    "while True:\n",
    "    try:\n",
    "        load_more = chrome.find_element(By.XPATH, \"//button[text()= 'Show More']\")\n",
    "        load_more.click()\n",
    "        sleep(2)\n",
    "    except:\n",
    "        break\n",
    "        "
   ],
   "id": "de567c9562db39d2",
   "outputs": [],
   "execution_count": 48
  },
  {
   "metadata": {
    "ExecuteTime": {
     "end_time": "2024-10-02T00:25:55.782784Z",
     "start_time": "2024-10-02T00:25:55.769677Z"
    }
   },
   "cell_type": "code",
   "source": "elements = chrome.find_elements(By.XPATH, '//div[@class=\"CardName__StyledCardName-sc-1gyrgim-0 cJdVEK\"]')",
   "id": "7b853ac11b80f244",
   "outputs": [],
   "execution_count": 49
  },
  {
   "metadata": {},
   "cell_type": "code",
   "outputs": [],
   "execution_count": null,
   "source": "",
   "id": "746ba38ee047955c"
  },
  {
   "metadata": {
    "ExecuteTime": {
     "end_time": "2024-10-02T00:26:03.377477Z",
     "start_time": "2024-10-02T00:26:03.361441Z"
    }
   },
   "cell_type": "code",
   "source": "elements[0].text",
   "id": "70104164bde68de1",
   "outputs": [
    {
     "data": {
      "text/plain": [
       "'Andrew Freed'"
      ]
     },
     "execution_count": 50,
     "metadata": {},
     "output_type": "execute_result"
    }
   ],
   "execution_count": 50
  },
  {
   "metadata": {
    "ExecuteTime": {
     "end_time": "2024-10-02T00:27:03.674105Z",
     "start_time": "2024-10-02T00:27:03.536645Z"
    }
   },
   "cell_type": "code",
   "source": [
    "names = pd.DataFrame([element.text for element in elements], columns=['Name'])\n",
    "\n",
    "names.to_csv('professorNames.csv', index=False)"
   ],
   "id": "6d7ec97bb9087b85",
   "outputs": [],
   "execution_count": 51
  },
  {
   "metadata": {},
   "cell_type": "code",
   "outputs": [],
   "execution_count": null,
   "source": "",
   "id": "31d2e4448e791928"
  }
 ],
 "metadata": {
  "kernelspec": {
   "display_name": "Python 3",
   "language": "python",
   "name": "python3"
  },
  "language_info": {
   "codemirror_mode": {
    "name": "ipython",
    "version": 2
   },
   "file_extension": ".py",
   "mimetype": "text/x-python",
   "name": "python",
   "nbconvert_exporter": "python",
   "pygments_lexer": "ipython2",
   "version": "2.7.6"
  }
 },
 "nbformat": 4,
 "nbformat_minor": 5
}
