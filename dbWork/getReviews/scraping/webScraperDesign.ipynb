{
 "cells": [
  {
   "cell_type": "code",
   "id": "initial_id",
   "metadata": {
    "collapsed": true,
    "ExecuteTime": {
     "end_time": "2024-08-27T22:03:44.987081Z",
     "start_time": "2024-08-27T22:03:44.985315Z"
    }
   },
   "source": "# !pip install selenium",
   "execution_count": 7,
   "outputs": []
  },
  {
   "metadata": {
    "ExecuteTime": {
     "end_time": "2024-08-27T22:03:44.989671Z",
     "start_time": "2024-08-27T22:03:44.988109Z"
    }
   },
   "cell_type": "code",
   "source": [
    "import selenium as se\n",
    "from selenium.webdriver.common.keys import Keys\n",
    "from selenium.webdriver.support.ui import WebDriverWait\n",
    "from selenium.common.exceptions import TimeoutException\n",
    "from selenium.webdriver.support import expected_conditions as EC\n",
    "from selenium.webdriver.common.by import By\n",
    "from time import sleep"
   ],
   "id": "2e6dbbd5db026e67",
   "execution_count": 8,
   "outputs": []
  },
  {
   "metadata": {
    "ExecuteTime": {
     "end_time": "2024-08-27T22:04:33.437344Z",
     "start_time": "2024-08-27T22:03:44.990126Z"
    }
   },
   "cell_type": "code",
   "source": [
    "driver = se.webdriver.Chrome()\n",
    "driver.get(\"https://www.ratemyprofessors.com\")\n",
    "def check_ad():\n",
    "    try:\n",
    "        ad = driver.find_element(By.XPATH, \"//a[@class='bx-close bx-close-link bx-close-inside']\")\n",
    "        ad.click()\n",
    "    except:\n",
    "        print(\"No ad found\")\n",
    "        return None\n",
    "while True:\n",
    "    try:\n",
    "        wait = WebDriverWait(driver, 2) \n",
    "        pop_up_button = wait.until(EC.visibility_of_element_located((By.XPATH, \"//button[text()='Close']\")))\n",
    "\n",
    "        pop_up_button.click()\n",
    "    except TimeoutException:\n",
    "        break\n",
    "check_ad()\n",
    "search = driver.find_element(By.XPATH, \"//input[@type='text']\")\n",
    "\n",
    "search.send_keys(\"Purdue University West Lafayette\")\n",
    "\n",
    "search.send_keys(Keys.RETURN)\n",
    "check_ad()\n",
    "schoolOrProf = driver.find_element(By.XPATH, \"//button[@class='TeacherSchoolToggleButton__StyledToggleButton-sc-15dbb0q-0 gmfVsA']\")\n",
    "\n",
    "schoolOrProf.click()\n",
    "check_ad()\n",
    "prof = driver.find_element(By.XPATH, \"//div[@class='TeacherSchoolToggleButton__StyledTeacherSchoolDropdown-sc-15dbb0q-3 ikEasa']\")\n",
    "prof.click()\n",
    "check_ad()\n",
    "profName = driver.find_element(By.XPATH, \"//input[@placeholder='Professor name']\")\n",
    "\n",
    "profName.send_keys(\"Kenji Matsuki\")\n",
    "\n",
    "schoolName = driver.find_element(By.XPATH, \"//input[@placeholder='Your school']\")\n",
    "\n",
    "schoolName.send_keys(\"Purdue University - West Lafayette\")\n",
    "\n",
    "profName.send_keys(Keys.RETURN)\n",
    "sleep(1)\n",
    "\n",
    "clear = driver.find_element(By.XPATH, \"//button[@title='Clear']\")\n",
    "\n",
    "clear.click()\n",
    "\n",
    "profs = driver.find_elements(By.XPATH, \"//a[@class='TeacherCard__StyledTeacherCard-syjs0d-0 dLJIlx']\")\n",
    "\n",
    "check_ad()\n",
    "\n",
    "try:\n",
    "    profs[0].click()\n",
    "except:\n",
    "    driver.quit()\n",
    "\n",
    "check_ad()\n",
    "\n",
    "sleepsecs = 0\n",
    "\n",
    "while True:\n",
    "    try:\n",
    "        load_more = driver.find_element(By.XPATH, \"//button[text()= 'Load More Ratings']\")\n",
    "        break\n",
    "    except:\n",
    "        sleep(0.1)\n",
    "        continue\n",
    "    \n",
    "\n",
    "while True:\n",
    "    try:\n",
    "        load_more = driver.find_element(By.XPATH, \"//button[text()= 'Load More Ratings']\")\n",
    "        load_more.click()\n",
    "        sleep(2)\n",
    "    except:\n",
    "        break\n",
    "\n",
    "\n",
    "\n",
    "\n",
    "check_ad()\n",
    "\n",
    "\n",
    "texts = driver.find_elements(By.XPATH, \"//li//div//div//div//div[@class='Comments__StyledComments-dzzyvm-0 gRjWel']\")\n",
    "\n",
    "reviews = []\n",
    "\n",
    "for text in texts:\n",
    "    reviews.append(text.text)\n",
    "    \n",
    "driver.quit()\n",
    "        \n",
    "reviews"
   ],
   "id": "88b51110a4c737a3",
   "execution_count": 9,
   "outputs": []
  }
 ],
 "metadata": {
  "kernelspec": {
   "display_name": "Python 3",
   "language": "python",
   "name": "python3"
  },
  "language_info": {
   "codemirror_mode": {
    "name": "ipython",
    "version": 2
   },
   "file_extension": ".py",
   "mimetype": "text/x-python",
   "name": "python",
   "nbconvert_exporter": "python",
   "pygments_lexer": "ipython2",
   "version": "2.7.6"
  }
 },
 "nbformat": 4,
 "nbformat_minor": 5
}
