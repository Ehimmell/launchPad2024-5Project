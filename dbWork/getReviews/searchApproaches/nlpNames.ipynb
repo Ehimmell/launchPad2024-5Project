{
 "cells": [
  {
   "cell_type": "code",
   "id": "initial_id",
   "metadata": {
    "collapsed": true,
    "ExecuteTime": {
     "end_time": "2024-10-04T17:53:18.364673Z",
     "start_time": "2024-10-04T17:53:16.125654Z"
    }
   },
   "source": "from sentence_transformers import SentenceTransformer",
   "execution_count": 1,
   "outputs": []
  },
  {
   "metadata": {
    "ExecuteTime": {
     "end_time": "2024-10-04T17:53:20.555756Z",
     "start_time": "2024-10-04T17:53:18.365653Z"
    }
   },
   "cell_type": "code",
   "source": [
    "model = SentenceTransformer('bert-base-nli-mean-tokens')\n",
    "\n",
    "with open(\"professorNames.csv\", 'r') as names:\n",
    "    \n",
    "    names = names.readlines()\n",
    "\n",
    "nameVectors = []\n",
    "\n",
    "for name in names:\n",
    "    nameVectors.append(model.encode(name))"
   ],
   "id": "da1b7e7430a2a30f",
   "execution_count": 2,
   "outputs": []
  },
  {
   "metadata": {
    "ExecuteTime": {
     "end_time": "2024-10-04T17:53:20.557655Z",
     "start_time": "2024-10-04T17:53:20.556344Z"
    }
   },
   "cell_type": "code",
   "source": "",
   "id": "4f6cfed7177e9038",
   "execution_count": 2,
   "outputs": []
  },
  {
   "metadata": {
    "ExecuteTime": {
     "end_time": "2024-10-04T17:53:20.579684Z",
     "start_time": "2024-10-04T17:53:20.558212Z"
    }
   },
   "cell_type": "code",
   "source": [
    "import pandas as pd\n",
    "\n",
    "df = pd.DataFrame(nameVectors)\n",
    "\n",
    "df['names'] = names\n",
    "\n",
    "df.to_csv(\"professorNameVectors.csv\", index=False)"
   ],
   "id": "9dd110b9374e3a0c",
   "execution_count": 3,
   "outputs": []
  },
  {
   "metadata": {
    "ExecuteTime": {
     "end_time": "2024-10-04T17:53:20.582295Z",
     "start_time": "2024-10-04T17:53:20.580962Z"
    }
   },
   "cell_type": "code",
   "source": "",
   "id": "2571ddb9aa3e3e59",
   "execution_count": 3,
   "outputs": []
  }
 ],
 "metadata": {
  "kernelspec": {
   "display_name": "Python 3",
   "language": "python",
   "name": "python3"
  },
  "language_info": {
   "codemirror_mode": {
    "name": "ipython",
    "version": 2
   },
   "file_extension": ".py",
   "mimetype": "text/x-python",
   "name": "python",
   "nbconvert_exporter": "python",
   "pygments_lexer": "ipython2",
   "version": "2.7.6"
  }
 },
 "nbformat": 4,
 "nbformat_minor": 5
}
