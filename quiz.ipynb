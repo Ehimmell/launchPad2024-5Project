{
 "cells": [
  {
   "cell_type": "code",
   "id": "initial_id",
   "metadata": {
    "collapsed": true,
    "ExecuteTime": {
     "end_time": "2024-09-05T22:14:45.636714Z",
     "start_time": "2024-09-05T22:14:45.634112Z"
    }
   },
   "source": [
    "def f(x):\n",
    "    return (x**3) - (8 * x) + 10"
   ],
   "outputs": [],
   "execution_count": 16
  },
  {
   "metadata": {
    "ExecuteTime": {
     "end_time": "2024-09-05T22:14:45.642324Z",
     "start_time": "2024-09-05T22:14:45.639939Z"
    }
   },
   "cell_type": "code",
   "source": [
    "for x in range(-6,6):\n",
    "    print(f'f({x}) = {f(x)}')"
   ],
   "id": "2bee91af1d2b9687",
   "outputs": [
    {
     "name": "stdout",
     "output_type": "stream",
     "text": [
      "f(-6) = -158\n",
      "f(-5) = -75\n",
      "f(-4) = -22\n",
      "f(-3) = 7\n",
      "f(-2) = 18\n",
      "f(-1) = 17\n",
      "f(0) = 10\n",
      "f(1) = 3\n",
      "f(2) = 2\n",
      "f(3) = 13\n",
      "f(4) = 42\n",
      "f(5) = 95\n"
     ]
    }
   ],
   "execution_count": 17
  },
  {
   "metadata": {
    "ExecuteTime": {
     "end_time": "2024-09-05T22:14:45.646227Z",
     "start_time": "2024-09-05T22:14:45.643792Z"
    }
   },
   "cell_type": "code",
   "source": "f(-4), f(-3)",
   "id": "697c21e5e44008c8",
   "outputs": [
    {
     "data": {
      "text/plain": [
       "(-22, 7)"
      ]
     },
     "execution_count": 18,
     "metadata": {},
     "output_type": "execute_result"
    }
   ],
   "execution_count": 18
  },
  {
   "metadata": {
    "ExecuteTime": {
     "end_time": "2024-09-05T22:15:20.434647Z",
     "start_time": "2024-09-05T22:15:20.431265Z"
    }
   },
   "cell_type": "code",
   "source": "f(165), f(170)",
   "id": "2d1431d6f6698032",
   "outputs": [
    {
     "data": {
      "text/plain": [
       "(4490815, 4911650)"
      ]
     },
     "execution_count": 19,
     "metadata": {},
     "output_type": "execute_result"
    }
   ],
   "execution_count": 19
  },
  {
   "metadata": {
    "ExecuteTime": {
     "end_time": "2024-09-05T22:15:57.041019Z",
     "start_time": "2024-09-05T22:15:57.037963Z"
    }
   },
   "cell_type": "code",
   "source": "f(175)",
   "id": "6747689aacc71c45",
   "outputs": [
    {
     "data": {
      "text/plain": [
       "5357985"
      ]
     },
     "execution_count": 20,
     "metadata": {},
     "output_type": "execute_result"
    }
   ],
   "execution_count": 20
  }
 ],
 "metadata": {
  "kernelspec": {
   "display_name": "Python 3",
   "language": "python",
   "name": "python3"
  },
  "language_info": {
   "codemirror_mode": {
    "name": "ipython",
    "version": 2
   },
   "file_extension": ".py",
   "mimetype": "text/x-python",
   "name": "python",
   "nbconvert_exporter": "python",
   "pygments_lexer": "ipython2",
   "version": "2.7.6"
  }
 },
 "nbformat": 4,
 "nbformat_minor": 5
}
